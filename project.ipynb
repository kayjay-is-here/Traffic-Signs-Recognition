{
 "cells": [
  {
   "cell_type": "code",
   "execution_count": 1,
   "metadata": {
    "collapsed": true
   },
   "outputs": [],
   "source": [
    "# Import the required libraries\n",
    "\n",
    "import pandas as pd\n",
    "#from tensorflow import keras\n",
    "#from keras import layers\n",
    "#import matplotlib.pyplot as plt\n",
    "#from keras.callbacks import TensorBoard"
   ]
  },
  {
   "cell_type": "code",
   "execution_count": 2,
   "outputs": [],
   "source": [
    "# Set up tensorboard\n",
    "%load_ext tensorboard\n",
    "import datetime\n",
    "log_folder = \"logs/fit/\" + datetime.datetime.now().strftime(\"%Y%m%d-%H%M%S\")"
   ],
   "metadata": {
    "collapsed": false
   }
  },
  {
   "cell_type": "code",
   "execution_count": 3,
   "outputs": [],
   "source": [
    "# Load in label info\n",
    "\n",
    "train_data_label = pd.read_excel(\"data/Train_data_label.xlsx\")\n",
    "test_data_label = pd.read_excel(\"data/Test_data_label.xlsx\")"
   ],
   "metadata": {
    "collapsed": false
   }
  },
  {
   "cell_type": "code",
   "execution_count": 4,
   "outputs": [
    {
     "data": {
      "text/plain": "   ClassId                            Path\n0       20  Train/20/00020_00000_00000.png\n1       20  Train/20/00020_00000_00001.png\n2       20  Train/20/00020_00000_00002.png\n3       20  Train/20/00020_00000_00003.png\n4       20  Train/20/00020_00000_00004.png",
      "text/html": "<div>\n<style scoped>\n    .dataframe tbody tr th:only-of-type {\n        vertical-align: middle;\n    }\n\n    .dataframe tbody tr th {\n        vertical-align: top;\n    }\n\n    .dataframe thead th {\n        text-align: right;\n    }\n</style>\n<table border=\"1\" class=\"dataframe\">\n  <thead>\n    <tr style=\"text-align: right;\">\n      <th></th>\n      <th>ClassId</th>\n      <th>Path</th>\n    </tr>\n  </thead>\n  <tbody>\n    <tr>\n      <th>0</th>\n      <td>20</td>\n      <td>Train/20/00020_00000_00000.png</td>\n    </tr>\n    <tr>\n      <th>1</th>\n      <td>20</td>\n      <td>Train/20/00020_00000_00001.png</td>\n    </tr>\n    <tr>\n      <th>2</th>\n      <td>20</td>\n      <td>Train/20/00020_00000_00002.png</td>\n    </tr>\n    <tr>\n      <th>3</th>\n      <td>20</td>\n      <td>Train/20/00020_00000_00003.png</td>\n    </tr>\n    <tr>\n      <th>4</th>\n      <td>20</td>\n      <td>Train/20/00020_00000_00004.png</td>\n    </tr>\n  </tbody>\n</table>\n</div>"
     },
     "execution_count": 4,
     "metadata": {},
     "output_type": "execute_result"
    }
   ],
   "source": [
    "train_data_label.head()"
   ],
   "metadata": {
    "collapsed": false
   }
  },
  {
   "cell_type": "code",
   "execution_count": 5,
   "outputs": [
    {
     "name": "stdout",
     "output_type": "stream",
     "text": [
      "Found 39209 images belonging to 43 classes.\n"
     ]
    }
   ],
   "source": [
    "from keras.preprocessing.image import ImageDataGenerator\n",
    "\n",
    "train_dir = \"data/Train\"\n",
    "test_dir = \"data/Test\"\n",
    "\n",
    "train_images = ImageDataGenerator(rescale=1./255).flow_from_directory(\n",
    "    train_dir,\n",
    "    class_mode=\"categorical\",\n",
    "    target_size=(30,30),\n",
    "    batch_size=32)"
   ],
   "metadata": {
    "collapsed": false
   }
  },
  {
   "cell_type": "code",
   "execution_count": 6,
   "outputs": [],
   "source": [
    "from PIL import Image\n",
    "import numpy as np\n",
    "import os\n",
    "from tqdm.auto import tqdm\n",
    "\n",
    "\n",
    "\n",
    "def read_images(dataframe):\n",
    "    pbar = tqdm(total=dataframe.shape[0])\n",
    "\n",
    "    color_images = []\n",
    "    grayscale_images = []\n",
    "\n",
    "    for index, row in dataframe.iterrows():\n",
    "        #print(index)\n",
    "        image = Image.open(os.path.join(\"data\", row[\"Path\"]))\n",
    "\n",
    "        image_resized = image.resize((30,30))\n",
    "        color_images.append(np.asarray(image_resized))\n",
    "\n",
    "        image_resized = image_resized.convert(\"L\")\n",
    "        grayscale_images.append(np.asarray(image_resized))\n",
    "\n",
    "        pbar.update(1)\n",
    "\n",
    "    print(\"Loading complete, updating dataframe...\")\n",
    "    dataframe[\"color_img_arr\"] = color_images\n",
    "    dataframe[\"grayscale_img_arr\"] = grayscale_images\n",
    "    print(\"Done.\")\n",
    "\n",
    "    pbar.close()\n",
    "    return"
   ],
   "metadata": {
    "collapsed": false
   }
  },
  {
   "cell_type": "code",
   "execution_count": 7,
   "outputs": [
    {
     "data": {
      "text/plain": "  0%|          | 0/39209 [00:00<?, ?it/s]",
      "application/vnd.jupyter.widget-view+json": {
       "version_major": 2,
       "version_minor": 0,
       "model_id": "d8f8969daa2e44f18fed5afe04a7b2c8"
      }
     },
     "metadata": {},
     "output_type": "display_data"
    },
    {
     "name": "stdout",
     "output_type": "stream",
     "text": [
      "Loading complete, updating dataframe...\n",
      "Done.\n"
     ]
    }
   ],
   "source": [
    "read_images(train_data_label)"
   ],
   "metadata": {
    "collapsed": false
   }
  },
  {
   "cell_type": "code",
   "execution_count": 8,
   "outputs": [
    {
     "data": {
      "text/plain": "   ClassId                            Path  \\\n0       20  Train/20/00020_00000_00000.png   \n1       20  Train/20/00020_00000_00001.png   \n2       20  Train/20/00020_00000_00002.png   \n3       20  Train/20/00020_00000_00003.png   \n4       20  Train/20/00020_00000_00004.png   \n\n                                       color_img_arr  \\\n0  [[[46, 51, 56], [48, 51, 56], [49, 51, 54], [5...   \n1  [[[47, 50, 55], [49, 50, 55], [50, 50, 54], [5...   \n2  [[[51, 50, 57], [51, 51, 60], [50, 51, 57], [5...   \n3  [[[49, 49, 54], [49, 50, 55], [48, 50, 55], [4...   \n4  [[[50, 50, 55], [51, 50, 56], [51, 49, 54], [4...   \n\n                                   grayscale_img_arr  \n0  [[50, 51, 51, 54, 69, 88, 83, 53, 56, 61, 89, ...  \n1  [[50, 50, 50, 51, 52, 49, 70, 88, 80, 60, 58, ...  \n2  [[51, 52, 51, 51, 51, 52, 50, 78, 82, 72, 58, ...  \n3  [[50, 50, 50, 49, 49, 47, 56, 68, 73, 69, 63, ...  \n4  [[51, 51, 50, 49, 49, 50, 50, 48, 65, 80, 66, ...  ",
      "text/html": "<div>\n<style scoped>\n    .dataframe tbody tr th:only-of-type {\n        vertical-align: middle;\n    }\n\n    .dataframe tbody tr th {\n        vertical-align: top;\n    }\n\n    .dataframe thead th {\n        text-align: right;\n    }\n</style>\n<table border=\"1\" class=\"dataframe\">\n  <thead>\n    <tr style=\"text-align: right;\">\n      <th></th>\n      <th>ClassId</th>\n      <th>Path</th>\n      <th>color_img_arr</th>\n      <th>grayscale_img_arr</th>\n    </tr>\n  </thead>\n  <tbody>\n    <tr>\n      <th>0</th>\n      <td>20</td>\n      <td>Train/20/00020_00000_00000.png</td>\n      <td>[[[46, 51, 56], [48, 51, 56], [49, 51, 54], [5...</td>\n      <td>[[50, 51, 51, 54, 69, 88, 83, 53, 56, 61, 89, ...</td>\n    </tr>\n    <tr>\n      <th>1</th>\n      <td>20</td>\n      <td>Train/20/00020_00000_00001.png</td>\n      <td>[[[47, 50, 55], [49, 50, 55], [50, 50, 54], [5...</td>\n      <td>[[50, 50, 50, 51, 52, 49, 70, 88, 80, 60, 58, ...</td>\n    </tr>\n    <tr>\n      <th>2</th>\n      <td>20</td>\n      <td>Train/20/00020_00000_00002.png</td>\n      <td>[[[51, 50, 57], [51, 51, 60], [50, 51, 57], [5...</td>\n      <td>[[51, 52, 51, 51, 51, 52, 50, 78, 82, 72, 58, ...</td>\n    </tr>\n    <tr>\n      <th>3</th>\n      <td>20</td>\n      <td>Train/20/00020_00000_00003.png</td>\n      <td>[[[49, 49, 54], [49, 50, 55], [48, 50, 55], [4...</td>\n      <td>[[50, 50, 50, 49, 49, 47, 56, 68, 73, 69, 63, ...</td>\n    </tr>\n    <tr>\n      <th>4</th>\n      <td>20</td>\n      <td>Train/20/00020_00000_00004.png</td>\n      <td>[[[50, 50, 55], [51, 50, 56], [51, 49, 54], [4...</td>\n      <td>[[51, 51, 50, 49, 49, 50, 50, 48, 65, 80, 66, ...</td>\n    </tr>\n  </tbody>\n</table>\n</div>"
     },
     "execution_count": 8,
     "metadata": {},
     "output_type": "execute_result"
    }
   ],
   "source": [
    "train_data_label.head()"
   ],
   "metadata": {
    "collapsed": false
   }
  },
  {
   "cell_type": "code",
   "execution_count": 9,
   "outputs": [],
   "source": [
    "# Plot the bar chart of classes from the train and test data by replacing the numbers with actual class names in the graph\n"
   ],
   "metadata": {
    "collapsed": false
   }
  }
 ],
 "metadata": {
  "kernelspec": {
   "display_name": "Python 3",
   "language": "python",
   "name": "python3"
  },
  "language_info": {
   "codemirror_mode": {
    "name": "ipython",
    "version": 2
   },
   "file_extension": ".py",
   "mimetype": "text/x-python",
   "name": "python",
   "nbconvert_exporter": "python",
   "pygments_lexer": "ipython2",
   "version": "2.7.6"
  }
 },
 "nbformat": 4,
 "nbformat_minor": 0
}
